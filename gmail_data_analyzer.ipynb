{
 "cells": [
  {
   "cell_type": "markdown",
   "metadata": {},
   "source": [
    "# Python Programming - Projects\n",
    "\n",
    "## Project 2\n",
    "\n",
    "\n",
    "Objective: The objective of this project is to analyze the email data you collected in the previous project.\n",
    "\n"
   ]
  },
  {
   "cell_type": "markdown",
   "metadata": {},
   "source": [
    "### Function Definitions"
   ]
  },
  {
   "cell_type": "code",
   "execution_count": 112,
   "metadata": {
    "collapsed": true
   },
   "outputs": [],
   "source": [
    "## All imports\n",
    "\n",
    "import os\n",
    "import re\n",
    "import csv\n"
   ]
  },
  {
   "cell_type": "code",
   "execution_count": 113,
   "metadata": {
    "collapsed": true
   },
   "outputs": [],
   "source": [
    "def context_separator(sep_char='^', ln=50):\n",
    "    return( sep_char*ln )"
   ]
  },
  {
   "cell_type": "code",
   "execution_count": 114,
   "metadata": {
    "collapsed": true
   },
   "outputs": [],
   "source": [
    "import sys, traceback\n",
    "\n",
    "def print_trace():\n",
    "    exc_type, exc_value, exc_traceback = sys.exc_info()\n",
    "\n",
    "    print(\"*** print_tb:\")\n",
    "    traceback.print_tb(exc_traceback, limit=1, file=sys.stdout)\n",
    "    \n",
    "    print( \"\\n*** print_exception:\\n\")\n",
    "    traceback.print_exception(exc_type, exc_value, exc_traceback,\n",
    "                              limit=2, file=sys.stdout)\n",
    "    print (\"\\n*** print_exc:\\n\")\n",
    "    traceback.print_exc()\n",
    "    \n",
    "    print( \"\\n*** format_exc, first and last line:\\n\")\n",
    "    formatted_lines = traceback.format_exc().splitlines()\n",
    "    print (formatted_lines[0])\n",
    "    print (formatted_lines[-1])\n",
    "    \n",
    "    print (\"\\n*** format_exception:\\n\")\n",
    "    print (repr(traceback.format_exception(exc_type, exc_value,\n",
    "                                          exc_traceback)))\n",
    "    print (\"\\n*** extract_tb:\\n\")\n",
    "    print (repr(traceback.extract_tb(exc_traceback)))\n",
    "    \n",
    "    print (\"\\n*** format_tb:\\n\")\n",
    "    print (repr(traceback.format_tb(exc_traceback)))\n",
    "    \n",
    "    print (\"\\n*** tb_lineno:\", exc_traceback.tb_lineno)\n",
    "    "
   ]
  },
  {
   "cell_type": "code",
   "execution_count": 115,
   "metadata": {
    "collapsed": true
   },
   "outputs": [],
   "source": [
    "# Pattern matching in single email and extraction of string\n",
    "import codecs\n",
    "\n",
    "def getemailbypat(filepath, field='to', pattern='.*'):\n",
    "    \n",
    "    \n",
    "    try:        \n",
    "#         fhandle = open(filepath)\n",
    "\n",
    "        with codecs.open(filepath, \"r\", encoding='utf-8', errors='ignore') as fhandle:\n",
    "        \n",
    "            eml = fhandle.read()\n",
    "\n",
    "            field = field.capitalize()\n",
    "\n",
    "            if field == 'Body':\n",
    "                field_patt = '\\nContent-Type:[\\s\\S]*$'\n",
    "            else:\n",
    "#                 field_patt = '\\n'+field+':.*?\\n'\n",
    "                field_patt = '\\s'+field+':.*\\s'\n",
    "#                 field_patt = field +':.*'\n",
    "\n",
    "            field_ext = re.findall(field_patt, eml)\n",
    "            #print (field_ext)\n",
    "            if field_ext:\n",
    "                field_ext_str = field_ext[0]\n",
    "            else:\n",
    "                field_ext_str = ''\n",
    "                \n",
    "                if field == 'To':\n",
    "                    \n",
    "                    # Try second pattern (TO field only)\n",
    "                    field_patt = 'Delivered-To:.*?\\n' \n",
    "                    field_ext = re.findall(field_patt, eml)\n",
    "                    if  field_ext:\n",
    "                        field_ext_str = field_ext[0]\n",
    "\n",
    "            \n",
    "            pattern_ext = re.findall(pattern, field_ext_str.strip())\n",
    "#             print(field_patt)\n",
    "#             print(field_ext)\n",
    "#             print(field_ext_str.strip())\n",
    "#             print(pattern_ext)\n",
    "#             print(pattern)\n",
    "            \n",
    "            return pattern_ext\n",
    "                \n",
    "    except:\n",
    "        \n",
    "        print( context_separator())\n",
    "        print( \"function name= \", \"\\'getmemailbypat\\'\")\n",
    "        print(context_separator())\n",
    "        print_trace()\n",
    "        \n",
    "        print(\"\\n**** Context Information ***\\n\")\n",
    "        \n",
    "        print( \"function name= \", \"\\'getmemailbypat\\'\")\n",
    "        print( \"filepath= \", filepath )\n",
    "        print( \"field= \", field)\n",
    "        print( \"pattern= \", pattern)\n",
    "        \n",
    "        try: \n",
    "            eml \n",
    "        except: \n",
    "            eml = None\n",
    "        \n",
    "        print( \"eml= \", eml if eml is not None else \"emal_not_defined\")\n",
    "        \n",
    "        \n",
    "        print( context_separator())\n"
   ]
  },
  {
   "cell_type": "code",
   "execution_count": 116,
   "metadata": {
    "collapsed": true
   },
   "outputs": [],
   "source": [
    "# traversing through the folder structures to get the file name and calling getmeialbypat for each file\n",
    "\n",
    "def create_gmaildata_csv(path):\n",
    "\n",
    "    try:\n",
    "\n",
    "        date_regex_pat = 'Date: ([A-Z][a-z]+.*)'\n",
    "#         email_regex_pat = '<(\\S+@\\S+)>'\n",
    "        email_regex_pat      = '\\s<?(\\S+@\\S+[^>])>?\\s'\n",
    "        email_regex_pat_from = '\\s<?(\\S+@\\S+\\.\\S+[^>])>?'\n",
    "    \n",
    "\n",
    "        with open('./data/gmail_data.csv', \"w\", newline='') as csv_file:\n",
    "            writer = csv.writer(csv_file, delimiter=',')\n",
    "            \n",
    "            # write header\n",
    "            line = ( \"FolderName,FileName,DateReceived,FromEmail,ToEmail\".split(\",\") )\n",
    "            \n",
    "            # Write data to a CSV file path\n",
    "            writer.writerow(line)\n",
    "\n",
    "            for root, dirs, files in os.walk(path):            \n",
    "                for file_ in files:                \n",
    "                    if file_.endswith(\".eml\"):\n",
    "\n",
    "                        filepath =  os.path.join(root, file_) \n",
    "                             \n",
    "                        date_extract = getemailbypat( filepath, 'date', date_regex_pat )\n",
    "                        from_extract = getemailbypat( filepath, 'from', email_regex_pat_from )\n",
    "                        to_extract   = getemailbypat( filepath, 'to', email_regex_pat_from )\n",
    "\n",
    "                        line = ( root, file_, ''.join(date_extract), ''.join(from_extract), ''.join(to_extract) )\n",
    "                        \n",
    "                        # Write data to a CSV file path\n",
    "                        writer.writerow(line)\n",
    "\n",
    "#                         print( 'No: {}; File: {}; Pattern Match: {}'.format(counter, filepath, extract_string))\n",
    "                          \n",
    "                    \n",
    "    except:\n",
    "#                \n",
    "        \n",
    "        print( context_separator())\n",
    "        print( \"function name= \", \"\\'getmemailbypat\\'\")\n",
    "        print(context_separator())\n",
    "        print_trace()\n",
    "        \n",
    "        print(\"\\n**** Context Information ***\\n\")\n",
    "        \n",
    "        print( \"function name= \", \"\\'getmemailbypat\\'\")\n",
    "        print( \"filepath= \", filepath )\n",
    "        print( \"field= \", field)\n",
    "        print( \"pattern= \", pattern)\n",
    "        \n",
    "        try: \n",
    "            eml \n",
    "        except: \n",
    "            eml = None\n",
    "        \n",
    "        print( \"eml= \", eml if eml is not None else \"emal_not_defined\")\n",
    "        \n",
    "        \n",
    "        print( context_separator())\n",
    "\n"
   ]
  },
  {
   "cell_type": "code",
   "execution_count": 117,
   "metadata": {
    "collapsed": true
   },
   "outputs": [],
   "source": [
    "# Calling of gmail_data_csv function \n",
    "\n",
    "create_gmaildata_csv('/home/noorrocks1796/got-your-back/GYB-GMail-Backup-noorrocks@gmail.com/')\n",
    "\n"
   ]
  },
  {
   "cell_type": "markdown",
   "metadata": {},
   "source": [
    "## Second Part\n",
    "\n",
    "Get data from CSV to Dataframes & do the analysis\n"
   ]
  },
  {
   "cell_type": "code",
   "execution_count": 118,
   "metadata": {
    "collapsed": true
   },
   "outputs": [],
   "source": [
    "import pandas as pd\n",
    "import os\n",
    "\n",
    "GMAIL_PATH = 'data/'\n",
    "def load_gmail_data(data_path=GMAIL_PATH): \n",
    "    csv_path = os.path.join(data_path, \"gmail_data.csv\") \n",
    "    return pd.read_csv(csv_path)"
   ]
  },
  {
   "cell_type": "code",
   "execution_count": 119,
   "metadata": {},
   "outputs": [
    {
     "data": {
      "text/html": [
       "<div>\n",
       "<style>\n",
       "    .dataframe thead tr:only-child th {\n",
       "        text-align: right;\n",
       "    }\n",
       "\n",
       "    .dataframe thead th {\n",
       "        text-align: left;\n",
       "    }\n",
       "\n",
       "    .dataframe tbody tr th {\n",
       "        vertical-align: top;\n",
       "    }\n",
       "</style>\n",
       "<table border=\"1\" class=\"dataframe\">\n",
       "  <thead>\n",
       "    <tr style=\"text-align: right;\">\n",
       "      <th></th>\n",
       "      <th>FolderName</th>\n",
       "      <th>FileName</th>\n",
       "      <th>DateReceived</th>\n",
       "      <th>FromEmail</th>\n",
       "      <th>ToEmail</th>\n",
       "    </tr>\n",
       "  </thead>\n",
       "  <tbody>\n",
       "    <tr>\n",
       "      <th>0</th>\n",
       "      <td>/home/noorrocks1796/got-your-back/GYB-GMail-Ba...</td>\n",
       "      <td>10f4939a12c26a59.eml</td>\n",
       "      <td>Sun, 03 Dec 2006 16:50:35 -0000</td>\n",
       "      <td>mail-support@google.com</td>\n",
       "      <td>noorrocks@gmail.com</td>\n",
       "    </tr>\n",
       "    <tr>\n",
       "      <th>1</th>\n",
       "      <td>/home/noorrocks1796/got-your-back/GYB-GMail-Ba...</td>\n",
       "      <td>14f685af851300a7.eml</td>\n",
       "      <td>Wed, 26 Aug 2015 10:23:47 +0530</td>\n",
       "      <td>jafferysms@googlegroups.com</td>\n",
       "      <td>jafferysms@googlegroups.com</td>\n",
       "    </tr>\n",
       "    <tr>\n",
       "      <th>2</th>\n",
       "      <td>/home/noorrocks1796/got-your-back/GYB-GMail-Ba...</td>\n",
       "      <td>14f68725e8d6574c.eml</td>\n",
       "      <td>Wed, 26 Aug 2015 05:19:29 +0000</td>\n",
       "      <td>list@swan.wa.gov.au</td>\n",
       "      <td>noorrocks@gmail.com</td>\n",
       "    </tr>\n",
       "    <tr>\n",
       "      <th>3</th>\n",
       "      <td>/home/noorrocks1796/got-your-back/GYB-GMail-Ba...</td>\n",
       "      <td>14f0b9ea95411f7a.eml</td>\n",
       "      <td>Sat, 08 Aug 2015 04:43:09 +0000 (UTC)</td>\n",
       "      <td>digest-noreply@quora.com</td>\n",
       "      <td>noorrocks@gmail.com</td>\n",
       "    </tr>\n",
       "    <tr>\n",
       "      <th>4</th>\n",
       "      <td>/home/noorrocks1796/got-your-back/GYB-GMail-Ba...</td>\n",
       "      <td>14f0bc25b231c9cc.eml</td>\n",
       "      <td>Sat, 8 Aug 2015 10:51:58 +0530</td>\n",
       "      <td>jafferysms@googlegroups.com</td>\n",
       "      <td>jafferysms@googlegroups.com</td>\n",
       "    </tr>\n",
       "  </tbody>\n",
       "</table>\n",
       "</div>"
      ],
      "text/plain": [
       "                                          FolderName              FileName  \\\n",
       "0  /home/noorrocks1796/got-your-back/GYB-GMail-Ba...  10f4939a12c26a59.eml   \n",
       "1  /home/noorrocks1796/got-your-back/GYB-GMail-Ba...  14f685af851300a7.eml   \n",
       "2  /home/noorrocks1796/got-your-back/GYB-GMail-Ba...  14f68725e8d6574c.eml   \n",
       "3  /home/noorrocks1796/got-your-back/GYB-GMail-Ba...  14f0b9ea95411f7a.eml   \n",
       "4  /home/noorrocks1796/got-your-back/GYB-GMail-Ba...  14f0bc25b231c9cc.eml   \n",
       "\n",
       "                            DateReceived                    FromEmail  \\\n",
       "0        Sun, 03 Dec 2006 16:50:35 -0000      mail-support@google.com   \n",
       "1        Wed, 26 Aug 2015 10:23:47 +0530  jafferysms@googlegroups.com   \n",
       "2        Wed, 26 Aug 2015 05:19:29 +0000          list@swan.wa.gov.au   \n",
       "3  Sat, 08 Aug 2015 04:43:09 +0000 (UTC)     digest-noreply@quora.com   \n",
       "4         Sat, 8 Aug 2015 10:51:58 +0530  jafferysms@googlegroups.com   \n",
       "\n",
       "                       ToEmail  \n",
       "0          noorrocks@gmail.com  \n",
       "1  jafferysms@googlegroups.com  \n",
       "2          noorrocks@gmail.com  \n",
       "3          noorrocks@gmail.com  \n",
       "4  jafferysms@googlegroups.com  "
      ]
     },
     "execution_count": 119,
     "metadata": {},
     "output_type": "execute_result"
    }
   ],
   "source": [
    "gmail_df = load_gmail_data()\n",
    "gmail_df.head()"
   ]
  },
  {
   "cell_type": "code",
   "execution_count": 120,
   "metadata": {},
   "outputs": [
    {
     "name": "stdout",
     "output_type": "stream",
     "text": [
      "<class 'pandas.core.frame.DataFrame'>\n",
      "RangeIndex: 5321 entries, 0 to 5320\n",
      "Data columns (total 5 columns):\n",
      "FolderName      5321 non-null object\n",
      "FileName        5321 non-null object\n",
      "DateReceived    5170 non-null object\n",
      "FromEmail       5304 non-null object\n",
      "ToEmail         5269 non-null object\n",
      "dtypes: object(5)\n",
      "memory usage: 207.9+ KB\n"
     ]
    }
   ],
   "source": [
    "gmail_df.info()"
   ]
  },
  {
   "cell_type": "code",
   "execution_count": 121,
   "metadata": {},
   "outputs": [
    {
     "data": {
      "text/html": [
       "<div>\n",
       "<style>\n",
       "    .dataframe thead tr:only-child th {\n",
       "        text-align: right;\n",
       "    }\n",
       "\n",
       "    .dataframe thead th {\n",
       "        text-align: left;\n",
       "    }\n",
       "\n",
       "    .dataframe tbody tr th {\n",
       "        vertical-align: top;\n",
       "    }\n",
       "</style>\n",
       "<table border=\"1\" class=\"dataframe\">\n",
       "  <thead>\n",
       "    <tr style=\"text-align: right;\">\n",
       "      <th></th>\n",
       "      <th>FolderName</th>\n",
       "      <th>FileName</th>\n",
       "      <th>DateReceived</th>\n",
       "      <th>FromEmail</th>\n",
       "      <th>ToEmail</th>\n",
       "    </tr>\n",
       "  </thead>\n",
       "  <tbody>\n",
       "    <tr>\n",
       "      <th>count</th>\n",
       "      <td>5321</td>\n",
       "      <td>5321</td>\n",
       "      <td>5170</td>\n",
       "      <td>5304</td>\n",
       "      <td>5269</td>\n",
       "    </tr>\n",
       "    <tr>\n",
       "      <th>unique</th>\n",
       "      <td>1852</td>\n",
       "      <td>5321</td>\n",
       "      <td>5160</td>\n",
       "      <td>410</td>\n",
       "      <td>177</td>\n",
       "    </tr>\n",
       "    <tr>\n",
       "      <th>top</th>\n",
       "      <td>/home/noorrocks1796/got-your-back/GYB-GMail-Ba...</td>\n",
       "      <td>13473ca048c27a71.eml</td>\n",
       "      <td>Sender: X-Feedback-Id;</td>\n",
       "      <td>jafferysms@googlegroups.com</td>\n",
       "      <td>noorrocks@gmail.com</td>\n",
       "    </tr>\n",
       "    <tr>\n",
       "      <th>freq</th>\n",
       "      <td>29</td>\n",
       "      <td>1</td>\n",
       "      <td>4</td>\n",
       "      <td>843</td>\n",
       "      <td>1842</td>\n",
       "    </tr>\n",
       "  </tbody>\n",
       "</table>\n",
       "</div>"
      ],
      "text/plain": [
       "                                               FolderName  \\\n",
       "count                                                5321   \n",
       "unique                                               1852   \n",
       "top     /home/noorrocks1796/got-your-back/GYB-GMail-Ba...   \n",
       "freq                                                   29   \n",
       "\n",
       "                    FileName            DateReceived  \\\n",
       "count                   5321                    5170   \n",
       "unique                  5321                    5160   \n",
       "top     13473ca048c27a71.eml  Sender: X-Feedback-Id;   \n",
       "freq                       1                       4   \n",
       "\n",
       "                          FromEmail              ToEmail  \n",
       "count                          5304                 5269  \n",
       "unique                          410                  177  \n",
       "top     jafferysms@googlegroups.com  noorrocks@gmail.com  \n",
       "freq                            843                 1842  "
      ]
     },
     "execution_count": 121,
     "metadata": {},
     "output_type": "execute_result"
    }
   ],
   "source": [
    "gmail_df.describe()"
   ]
  },
  {
   "cell_type": "code",
   "execution_count": 122,
   "metadata": {},
   "outputs": [],
   "source": [
    "# change dateReceived column to datetime datatype\n",
    "\n",
    "gmail_df['DateReceivedParsed'] = pd.to_datetime(gmail_df['DateReceived'], errors='coerce')\n"
   ]
  },
  {
   "cell_type": "code",
   "execution_count": 123,
   "metadata": {},
   "outputs": [
    {
     "data": {
      "text/html": [
       "<div>\n",
       "<style>\n",
       "    .dataframe thead tr:only-child th {\n",
       "        text-align: right;\n",
       "    }\n",
       "\n",
       "    .dataframe thead th {\n",
       "        text-align: left;\n",
       "    }\n",
       "\n",
       "    .dataframe tbody tr th {\n",
       "        vertical-align: top;\n",
       "    }\n",
       "</style>\n",
       "<table border=\"1\" class=\"dataframe\">\n",
       "  <thead>\n",
       "    <tr style=\"text-align: right;\">\n",
       "      <th></th>\n",
       "      <th>FolderName</th>\n",
       "      <th>FileName</th>\n",
       "      <th>DateReceived</th>\n",
       "      <th>FromEmail</th>\n",
       "      <th>ToEmail</th>\n",
       "      <th>DateReceivedParsed</th>\n",
       "    </tr>\n",
       "  </thead>\n",
       "  <tbody>\n",
       "    <tr>\n",
       "      <th>0</th>\n",
       "      <td>/home/noorrocks1796/got-your-back/GYB-GMail-Ba...</td>\n",
       "      <td>10f4939a12c26a59.eml</td>\n",
       "      <td>Sun, 03 Dec 2006 16:50:35 -0000</td>\n",
       "      <td>mail-support@google.com</td>\n",
       "      <td>noorrocks@gmail.com</td>\n",
       "      <td>2006-12-03 16:50:35</td>\n",
       "    </tr>\n",
       "    <tr>\n",
       "      <th>1</th>\n",
       "      <td>/home/noorrocks1796/got-your-back/GYB-GMail-Ba...</td>\n",
       "      <td>14f685af851300a7.eml</td>\n",
       "      <td>Wed, 26 Aug 2015 10:23:47 +0530</td>\n",
       "      <td>jafferysms@googlegroups.com</td>\n",
       "      <td>jafferysms@googlegroups.com</td>\n",
       "      <td>2015-08-26 04:53:47</td>\n",
       "    </tr>\n",
       "    <tr>\n",
       "      <th>2</th>\n",
       "      <td>/home/noorrocks1796/got-your-back/GYB-GMail-Ba...</td>\n",
       "      <td>14f68725e8d6574c.eml</td>\n",
       "      <td>Wed, 26 Aug 2015 05:19:29 +0000</td>\n",
       "      <td>list@swan.wa.gov.au</td>\n",
       "      <td>noorrocks@gmail.com</td>\n",
       "      <td>2015-08-26 05:19:29</td>\n",
       "    </tr>\n",
       "    <tr>\n",
       "      <th>3</th>\n",
       "      <td>/home/noorrocks1796/got-your-back/GYB-GMail-Ba...</td>\n",
       "      <td>14f0b9ea95411f7a.eml</td>\n",
       "      <td>Sat, 08 Aug 2015 04:43:09 +0000 (UTC)</td>\n",
       "      <td>digest-noreply@quora.com</td>\n",
       "      <td>noorrocks@gmail.com</td>\n",
       "      <td>2015-08-08 04:43:09</td>\n",
       "    </tr>\n",
       "    <tr>\n",
       "      <th>4</th>\n",
       "      <td>/home/noorrocks1796/got-your-back/GYB-GMail-Ba...</td>\n",
       "      <td>14f0bc25b231c9cc.eml</td>\n",
       "      <td>Sat, 8 Aug 2015 10:51:58 +0530</td>\n",
       "      <td>jafferysms@googlegroups.com</td>\n",
       "      <td>jafferysms@googlegroups.com</td>\n",
       "      <td>2015-08-08 05:21:58</td>\n",
       "    </tr>\n",
       "  </tbody>\n",
       "</table>\n",
       "</div>"
      ],
      "text/plain": [
       "                                          FolderName              FileName  \\\n",
       "0  /home/noorrocks1796/got-your-back/GYB-GMail-Ba...  10f4939a12c26a59.eml   \n",
       "1  /home/noorrocks1796/got-your-back/GYB-GMail-Ba...  14f685af851300a7.eml   \n",
       "2  /home/noorrocks1796/got-your-back/GYB-GMail-Ba...  14f68725e8d6574c.eml   \n",
       "3  /home/noorrocks1796/got-your-back/GYB-GMail-Ba...  14f0b9ea95411f7a.eml   \n",
       "4  /home/noorrocks1796/got-your-back/GYB-GMail-Ba...  14f0bc25b231c9cc.eml   \n",
       "\n",
       "                            DateReceived                    FromEmail  \\\n",
       "0        Sun, 03 Dec 2006 16:50:35 -0000      mail-support@google.com   \n",
       "1        Wed, 26 Aug 2015 10:23:47 +0530  jafferysms@googlegroups.com   \n",
       "2        Wed, 26 Aug 2015 05:19:29 +0000          list@swan.wa.gov.au   \n",
       "3  Sat, 08 Aug 2015 04:43:09 +0000 (UTC)     digest-noreply@quora.com   \n",
       "4         Sat, 8 Aug 2015 10:51:58 +0530  jafferysms@googlegroups.com   \n",
       "\n",
       "                       ToEmail  DateReceivedParsed  \n",
       "0          noorrocks@gmail.com 2006-12-03 16:50:35  \n",
       "1  jafferysms@googlegroups.com 2015-08-26 04:53:47  \n",
       "2          noorrocks@gmail.com 2015-08-26 05:19:29  \n",
       "3          noorrocks@gmail.com 2015-08-08 04:43:09  \n",
       "4  jafferysms@googlegroups.com 2015-08-08 05:21:58  "
      ]
     },
     "execution_count": 123,
     "metadata": {},
     "output_type": "execute_result"
    }
   ],
   "source": [
    "gmail_df.head()"
   ]
  },
  {
   "cell_type": "code",
   "execution_count": 124,
   "metadata": {},
   "outputs": [],
   "source": [
    "#Remove old datereceived column\n",
    "\n",
    "gmail_df = gmail_df.drop('DateReceived',axis=1)\n",
    "gmail_df.head()\n",
    "\n",
    "# Drop Nan Rows\n",
    "\n",
    "gmail_df = gmail_df.dropna(how='any')"
   ]
  },
  {
   "cell_type": "code",
   "execution_count": 125,
   "metadata": {},
   "outputs": [
    {
     "data": {
      "text/plain": [
       "24"
      ]
     },
     "execution_count": 125,
     "metadata": {},
     "output_type": "execute_result"
    }
   ],
   "source": [
    "gmail_df['TimeSlot'] = gmail_df.DateReceivedParsed.dt.hour\n",
    "\n",
    "# \n",
    "gmail_df['TimeSlot'].nunique()\n",
    "\n"
   ]
  },
  {
   "cell_type": "code",
   "execution_count": 126,
   "metadata": {},
   "outputs": [
    {
     "name": "stdout",
     "output_type": "stream",
     "text": [
      "6    434\n",
      "5    422\n",
      "7    354\n",
      "4    338\n",
      "8    259\n",
      "Name: TimeSlot, dtype: int64\n"
     ]
    }
   ],
   "source": [
    "# printing top 5 times of the week when you receive the most number of emails. \n",
    "\n",
    "df_top_5_hours = gmail_df.TimeSlot.value_counts().head(5)\n",
    "\n",
    "print(df_top_5_hours)"
   ]
  },
  {
   "cell_type": "code",
   "execution_count": 127,
   "metadata": {},
   "outputs": [
    {
     "data": {
      "text/plain": [
       "jafferysms@googlegroups.com    843\n",
       "Name: FromEmail, dtype: int64"
      ]
     },
     "execution_count": 127,
     "metadata": {},
     "output_type": "execute_result"
    }
   ],
   "source": [
    "# Most email sent by :\n",
    "gmail_df.FromEmail.value_counts().head(1)"
   ]
  },
  {
   "cell_type": "code",
   "execution_count": 128,
   "metadata": {},
   "outputs": [
    {
     "data": {
      "text/plain": [
       "noorrocks@gmail.com    1756\n",
       "Name: ToEmail, dtype: int64"
      ]
     },
     "execution_count": 128,
     "metadata": {},
     "output_type": "execute_result"
    }
   ],
   "source": [
    "gmail_df.ToEmail.value_counts().head(1)"
   ]
  }
 ],
 "metadata": {
  "kernelspec": {
   "display_name": "Python 3",
   "language": "python",
   "name": "python3"
  },
  "language_info": {
   "codemirror_mode": {
    "name": "ipython",
    "version": 3
   },
   "file_extension": ".py",
   "mimetype": "text/x-python",
   "name": "python",
   "nbconvert_exporter": "python",
   "pygments_lexer": "ipython3",
   "version": "3.6.3"
  }
 },
 "nbformat": 4,
 "nbformat_minor": 2
}

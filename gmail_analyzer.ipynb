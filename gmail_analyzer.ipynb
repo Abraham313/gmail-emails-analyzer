{
 "cells": [
  {
   "cell_type": "code",
   "execution_count": 60,
   "metadata": {},
   "outputs": [
    {
     "name": "stdout",
     "output_type": "stream",
     "text": [
      "FIELD EXTRACT STRING.... \n",
      "To: pmpbest@yahoogroups.com\n",
      "\n",
      "\n",
      "\n",
      "\n",
      "\n",
      "\n",
      "-----------------------------\n",
      "\n",
      "\n",
      "\n",
      "\n",
      "PATTERN EXTRACT STRING... ['pmpbest@yahoogroups.com']\n"
     ]
    }
   ],
   "source": [
    "import os\n",
    "import re\n",
    "\n",
    "def getemailbypat(path='/home/noorrocks1796/got-your-back/GYB-GMail-Backup-noorrocks@gmail.com/2018/1/1/160af9168e0ad891.eml', field='to', pattern='.*'):\n",
    "    \n",
    "     try:\n",
    "        \n",
    "        fhandle = open(path)\n",
    "        eml = fhandle.read()\n",
    "        field = field[0].upper() + field[1:].lower()\n",
    "        \n",
    "        if field == 'Body':\n",
    "            field_patt = '\\nContent-Type:[\\s\\S]*$'\n",
    "        else:\n",
    "            field_patt = '\\n'+field+':.*?\\n'\n",
    "            \n",
    "        field_ext = re.findall(field_patt, eml)\n",
    "        field_ext_str = field_ext[0]\n",
    "        pattern_ext = re.findall(pattern, field_ext_str)\n",
    "\n",
    "        print ('FIELD EXTRACT STRING....', field_ext_str)\n",
    "        print('\\n\\n\\n\\n\\n-----------------------------\\n\\n\\n\\n')\n",
    "        print('PATTERN EXTRACT STRING...', pattern_ext)\n",
    "        \n",
    "     except:\n",
    "         print('something went wrong')\n",
    "\n",
    "\n",
    "\n",
    "getemailbypat(pattern='\\S+@\\S+')\n",
    "\n"
   ]
  }
 ],
 "metadata": {
  "kernelspec": {
   "display_name": "Python 3",
   "language": "python",
   "name": "python3"
  },
  "language_info": {
   "codemirror_mode": {
    "name": "ipython",
    "version": 3
   },
   "file_extension": ".py",
   "mimetype": "text/x-python",
   "name": "python",
   "nbconvert_exporter": "python",
   "pygments_lexer": "ipython3",
   "version": "3.6.3"
  }
 },
 "nbformat": 4,
 "nbformat_minor": 2
}
